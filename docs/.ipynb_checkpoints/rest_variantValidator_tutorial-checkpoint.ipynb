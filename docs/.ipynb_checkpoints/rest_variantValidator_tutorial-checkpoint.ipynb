{
 "cells": [
  {
   "cell_type": "markdown",
   "metadata": {},
   "source": [
    "<img src=\"https://github.com/i3hsInnovation/resources/blob/master/images/introbanner.png?raw=true\" />"
   ]
  },
  {
   "cell_type": "markdown",
   "metadata": {},
   "source": [
    "<table style=\"float:right\" width=\"50%\">\n",
    "    <tr>\n",
    "        <td>                      \n",
    "            <div style=\"text-align: left\"><a href=\"\" target=\"_blank\">Dr Peter Causey-Freeman</a></div>\n",
    "            <div style=\"text-align: left\">Lecturer - Healthcare Sciences</div>\n",
    "            <div style=\"text-align: left\">(Clinical Bioinformatics)</div>\n",
    "            <div style=\"text-align: left\">The University of Manchester</div>\n",
    "         </td>\n",
    "         <td>\n",
    "             <img src=\"https://github.com/i3hsInnovation/resources/blob/master/images/pete.001.png?raw=true\" width=\"40%\" />\n",
    "         </td>\n",
    "     </tr>\n",
    "</table>"
   ]
  },
  {
   "cell_type": "markdown",
   "metadata": {},
   "source": [
    "# Introduction to SPRINT 1 notebook B\n",
    "****\n",
    "\n",
    "## Overview\n",
    "This introductory notebook, and subsequent SPRINT_introduction notebooks will continue to introduce the concept of retrieving data from Application Programming Interfaces [API](https://en.wikipedia.org/wiki/Application_programming_interface) which are web-hosted ([web API](https://en.wikipedia.org/wiki/Web_API))\n",
    "\n",
    "Many bioinformatics tools and data repositories can be accessed using web APIs including NCBI and Ensembl. \n",
    "\n",
    "Although we cannot hope to demonstrate how each an every useful bioinformatics web API works during this 10 week course, we will give you a broad overview of the tools we use to request data from these resources and the tools we use to make-sense of the data that are returned "
   ]
  },
  {
   "cell_type": "markdown",
   "metadata": {},
   "source": [
    "<b><h2>Table of Contents</h2></b>  \n",
    "</div>"
   ]
  },
  {
   "cell_type": "markdown",
   "metadata": {},
   "source": [
    "#### Notebook B, section 1: [Introduction to JSON](#json)\n",
    "- [What is JSON](#watsit)\n",
    "- [The JSON format](#jform)\n",
    "- [Reading and writing JSON using Python](#jpy)\n",
    "- [Section 1 Summary](#s1s)\n",
    "\n",
    "#### Notebook B, section 2: [Introduction to REST API](#restapi)\n",
    "- [The REST framework](#rest)\n",
    "- [Building a simple API: Part A - Build a simple REST API](#builder_a)\n",
    "- [Building a simple API: Part B - Request data using Python](#builder_b)\n",
    "- [Building a simple API: Part C - Create a new VariantValidator API](#builder_c)\n",
    "- [Section 2 Summary and Assignment](#s2s)\n",
    "- [Marked assessment](#practical)"
   ]
  },
  {
   "cell_type": "markdown",
   "metadata": {},
   "source": [
    "\n",
    "<div class=\"alert alert-block alert-warning\"><b>Learning Objective:</b> Create functioning, standards compliant and well documented Python code</div>"
   ]
  },
  {
   "cell_type": "markdown",
   "metadata": {},
   "source": [
    "<a id=\"restapi\"></a>\n",
    "<table width=\"100%\" style=\"float:left\">\n",
    "    <tr>\n",
    "        <td width=\"60%\" style=\"text-align: left\">\n",
    "            <h1>Introduction to the VariantValidator REST API</h1>\n",
    "        </td>\n",
    "        <td width=\"30%\">\n",
    "            <img src=\"https://github.com/i3hsInnovation/resources/blob/master/images/rest_api.png?raw=true\" width=\"30%\"/>\n",
    "        </td>\n",
    "    </tr>\n",
    "</table>"
   ]
  },
  {
   "cell_type": "markdown",
   "metadata": {},
   "source": [
    "***\n",
    "<sup>Image by Peter Causey-Freeman</sup>"
   ]
  },
  {
   "cell_type": "markdown",
   "metadata": {},
   "source": [
    "<a id=\"rest\"></a>\n",
    "\n",
    "<b><h2>The REST framework</h2></b>  \n",
    "</div>"
   ]
  },
  {
   "cell_type": "markdown",
   "metadata": {},
   "source": [
    "## [An Introduction to APIs](https://restful.io/an-introduction-to-api-s-cee90581ca1b) \n",
    "- [Gonzalo Vázquez](https://restful.io/@gonzalovazquez)\n",
    "- [Restful Web](https://restful.io/) "
   ]
  },
  {
   "cell_type": "markdown",
   "metadata": {},
   "source": [
    "<a id=\"builder_a\"></a>\n",
    "\n",
    "<b><h2>Using the VariantValidator REST API</h2></b>  \n",
    "</div>"
   ]
  },
  {
   "cell_type": "markdown",
   "metadata": {},
   "source": [
    "### API structure\n",
    "\n",
    "####  Framework\n",
    "The VariantValidator REST API is built on the [Flask](https://en.wikipedia.org/wiki/Flask_\\(web_framework) web framework. \n",
    "\n",
    "The REST components are built using [Flask-RESTPlus](https://flask-restplus.readthedocs.io/en/stable/)\n",
    "\n",
    "> Flask-RESTPlus is an extension for Flask that adds support for quickly building REST APIs. Flask-RESTPlus encourages best practices with minimal setup. \n",
    "\n",
    ">It provides a coherent collection of tools to describe your API and expose its documentation properly (using Swagger).\n",
    "\n",
    "#### Namespaces and Endpoints\n",
    "\n",
    "The VariantValidator REST API has several tool-sets. Each set is divided into separate namespaces. \n",
    "\n",
    "For example, the namespace \"hello\" is used to test whether our services are up-and running. The namespaces and endpoints are most easily demonstrated by looking at the Swagger documented API on [https://rest.variantvalidator.org/](https://rest.variantvalidator.org/).\n",
    "\n",
    "The namespaces are\n",
    "- VariantValidator; Core [VariantValidator](https://github.com/openvar/variantValidator) Python library\n",
    "- VariantFormatter; [VariantFormatter](https://github.com/openvar/variantFormatter/tree/develop) extension library\n",
    "- LOVD; Adapted endpoint for LOVD specific access to our resourced\n",
    "- hello; Simple handshake allowing external users to test whether services are alive before submission\n",
    "\n",
    "Swagger documentation displays the namespaces as follows"
   ]
  },
  {
   "cell_type": "markdown",
   "metadata": {},
   "source": [
    "![title](images/ns_and_ep.png)"
   ]
  },
  {
   "cell_type": "markdown",
   "metadata": {},
   "source": [
    "Each namespace contains endpoints which access specific functions of the VariantValidator libraries. For example the VariantValidator namespace has 3 endpoints\n",
    "- gene2transcripts\n",
    "- hgvs2reference\n",
    "- variantvalidator\n",
    "\n",
    "### Building Queries\n",
    "\n",
    "In this interactive mode, the endpoint can be clicked allowing us to access a human-friendly query builder\n",
    "\n",
    "![title](images/query_builder.png)\n",
    "\n",
    "Currently the data can be returned in 2 different formats, JSON and XML. These are selected using the `Select the response format` drop-down menu. \n",
    "\n",
    "For this example I have selected the simple `gene2transcripts` endpoint which searches for all transcripts associated with a particular gene. The documentation tells us that me must input either a HGNC compliant gene symbol or a RefSeq transcript ID. However, this documentation will be improved because the tool also accepts RefSeq transcript IDs without version numbers, LRG IDs (*e.g.* LRG_1) and LRG transcript IDs (*e.g.* LRG_1t1). \n",
    "\n",
    "Once all the required fields are populated we can execute the query"
   ]
  },
  {
   "cell_type": "markdown",
   "metadata": {},
   "source": [
    "### The API response\n",
    "\n",
    "Let's take a look at the response which Swagger has parsed into a user-friendly web page.\n",
    "\n",
    "![title](images/response.png)\n",
    "\n",
    "#### Server responses\n",
    "1. [Response code](https://developer.amazon.com/docs/amazon-drive/ad-restful-api-response-codes.html) 200\n",
    "2. The Response headers provide additional response metadata, *e.g.* the content-type and the time of the response\n",
    "3. Response body, *i.e.* the JSON or XML the endpoint returns\n",
    "\n",
    "### The API query URLS\n",
    "\n",
    "Swagger also displays queries that can be used to trigger the response in a standard format, *i.e.* a non-interactive mode.\n",
    "\n",
    "![title](images/urls.png)\n",
    "\n",
    "#### curl\n",
    "\n",
    "curl is generally used in terminals and programming\n",
    "\n",
    "In this screen shot I have used a terminal to request data directly from the VariantValidator API using the provided curl. I have piped this into `python -m json.tool` to provide a pretty JSON display.\n",
    "\n",
    "The full request is `curl -X GET \"https://rest.variantvalidator.org/VariantValidator/tools/gene2transcripts/COL1A1?content-type=application%2Fjson\" -H \"accept: application/json\" | python -m json.tool`\n",
    "\n",
    "![title](images/curl.png)\n",
    "\n",
    "#### web URL\n",
    "The web URL can simply be pasted into a browser and in the next section we will use the web URL to recover data from the VariantValidator API using Python\n",
    "\n",
    "![title](images/web.png)"
   ]
  },
  {
   "cell_type": "markdown",
   "metadata": {},
   "source": [
    "<a id=\"builder_b\"></a>\n",
    "\n",
    "<b><h2>Request data using Python</h2></b>  \n",
    "</div>"
   ]
  },
  {
   "cell_type": "markdown",
   "metadata": {},
   "source": [
    "### The Requests module\n",
    "[Requests](https://2.python-requests.org/en/master/)\n",
    "> Requests: HTTP for Humans™\n",
    "\n",
    "> Requests is the only HTTP library for Python safe for human consumption\n",
    "\n",
    "***\n",
    "<sup>Courtesy of the \"requests\" © 2019 Kenneth Reitz [Apache 2 License](https://www.apache.org/licenses/LICENSE-2.0)</sup><br/>\n",
    "\n",
    "OK, we have to take their word for it, but we are going to use requests because is's simple, easy to understand and is well maintained\n",
    "\n",
    "#### Method\n",
    "\n",
    "1. Install requests into your environment"
   ]
  },
  {
   "cell_type": "code",
   "execution_count": null,
   "metadata": {},
   "outputs": [],
   "source": [
    "! pip install requests"
   ]
  },
  {
   "cell_type": "markdown",
   "metadata": {},
   "source": [
    "2. Import modules we will use"
   ]
  },
  {
   "cell_type": "code",
   "execution_count": null,
   "metadata": {},
   "outputs": [],
   "source": [
    "import requests\n",
    "import json"
   ]
  },
  {
   "cell_type": "markdown",
   "metadata": {},
   "source": [
    "3. Create a simple function that calls the API using responses\n",
    "\n",
    "  - *Note: This function is in a format that can be expanded*"
   ]
  },
  {
   "cell_type": "code",
   "execution_count": 1,
   "metadata": {},
   "outputs": [],
   "source": [
    "base_url = 'http://127.0.0.1:5000/'\n",
    "def make_request(base_url, api_function):\n",
    "    # Tell the User the full URL of their call to the rest API\n",
    "    url = '%s%s' % (base_url, api_function)\n",
    "    print(\"Querying rest API with URL: \" + url)\n",
    "    \n",
    "    # Make the request and pass to a response object that the function returns\n",
    "    response = requests.get(url)\n",
    "    return response"
   ]
  },
  {
   "cell_type": "markdown",
   "metadata": {},
   "source": [
    "4. Make a request to our API using the function. We need to specify the base_url and the api_function"
   ]
  },
  {
   "cell_type": "code",
   "execution_count": null,
   "metadata": {},
   "outputs": [],
   "source": [
    "response = make_request(base_url, 'hello')"
   ]
  },
  {
   "cell_type": "markdown",
   "metadata": {},
   "source": [
    "5. Look at the response content\n",
    "  - response status code"
   ]
  },
  {
   "cell_type": "code",
   "execution_count": null,
   "metadata": {},
   "outputs": [],
   "source": [
    "response.status_code"
   ]
  },
  {
   "cell_type": "markdown",
   "metadata": {},
   "source": [
    "  - response headers"
   ]
  },
  {
   "cell_type": "code",
   "execution_count": null,
   "metadata": {},
   "outputs": [],
   "source": [
    "response.headers"
   ]
  },
  {
   "cell_type": "markdown",
   "metadata": {},
   "source": [
    "5. Finally, extract the body which the requests.json() method formats into Python dictionary"
   ]
  },
  {
   "cell_type": "code",
   "execution_count": null,
   "metadata": {},
   "outputs": [],
   "source": [
    "body = response.json()\n",
    "body"
   ]
  },
  {
   "cell_type": "markdown",
   "metadata": {},
   "source": [
    "<a id=\"builder_c\"></a>\n",
    "\n",
    "<b><h2>Building a simple API: Part C - Create a new VariantValidator API</h2></b>  \n",
    "</div>"
   ]
  },
  {
   "cell_type": "markdown",
   "metadata": {},
   "source": [
    "## A bit basic isn't it?\n",
    "\n",
    "The simple `hello` API is a bit basic, but it does show you how an API works and we have also made requests to our API using Python.\n",
    "\n",
    "So what if we want to pass some data to the API?\n",
    "\n",
    "To `application/app_v2` I have added an additional **namespace** called name_space.\n",
    "\n",
    "I have also added a new API to our REST interface called name\n",
    "\n",
    "```python\n",
    "name_space = application.namespace('name', description='Return a name provided by the user')\n",
    "@name_space.route(\"<string:name>\")\n",
    "class NameClass(Resource):\n",
    "    def get(self, name):\n",
    "        return {\n",
    "            \"My name is\" : name\n",
    "        }\n",
    "```\n",
    "\n",
    "To capture data submitted to the API, we tell the name_space.route to expect a **string** object\n",
    "```python\n",
    "@name_space.route(\"/<string:name>\")\n",
    "```\n",
    "\n",
    "and the NameClass Resource to expect the string object\n",
    "```python\n",
    "def get(self, name):\n",
    "```"
   ]
  },
  {
   "cell_type": "markdown",
   "metadata": {},
   "source": [
    "<div class=\"alert alert-info\">\n",
    "    <b><h3>Have a go</h3></b>\n",
    "\n",
    "Activate `app_v2`\n",
    "\n",
    "```bash\n",
    "$ python SPRINT/application/app_v2.py\n",
    "```\n",
    "\n",
    "\n",
    "### Exercise\n",
    "\n",
    "In a browser navigate to [http://127.0.0.1:5000/](http://127.0.0.1:5000/) and see whether you can figure out how to return your name using the API\n",
    "\n",
    "*Swagger is your friend here. It makes it very simple for a lay user to use an API*\n",
    "\n",
    "<br>\n",
    "\n",
    "### Exercise 2\n",
    "\n",
    "Now write a script that can make a call to the API and return the JSON that displays your name\n",
    "\n",
    "*Use the script above as a template. Remember, you may want to make a call to the hello API again, so keep the function flexible*\n",
    "\n",
    "Once the script is working, print out the response status, headings and JSON\n",
    "\n",
    "</div>"
   ]
  },
  {
   "cell_type": "markdown",
   "metadata": {},
   "source": [
    "<a id=\"s2s\"></a>\n",
    "\n",
    "<b><h2>Section 2 Summary and Assignment</h2></b>  \n",
    "</div>"
   ]
  },
  {
   "cell_type": "markdown",
   "metadata": {},
   "source": [
    "### Summary\n",
    "In section 2 of this notebook we have learned about the REST API framework. We have learned how to build a simple REST API of our own. We have briefly touched upon the concept of how Swagger documentation makes APIs accessible to mere humans\\*. We have also learned how to request and make sense of data returned by REST PAIs using the Python requests module\n",
    "\n",
    "\\**We will look at of Swagger in more detail in week 8 of this unit* "
   ]
  },
  {
   "cell_type": "markdown",
   "metadata": {
    "cell_style": "split"
   },
   "source": [
    "<a name=\"practical\"></a>\n",
    "\n",
    "### Over to you\n",
    "\n",
    "#### Aim of this exercise\n",
    "The aim of this exercise is to keep you into the mindset of working together as a team. We will concentrate on aspects of working in an Agile fashion.\n",
    "\n",
    "#### Structure your team\n",
    "Assign your team roles:\n",
    "\n",
    "1. **Project lead**\n",
    "    - Initiate the project on Git Issues (Note, there are two separate short projects here)\n",
    "    - Lead the group discussion in Git Issues and Slack\n",
    "    - Provide final feedback on the group's activities and close the issue\n",
    "    \n",
    "\n",
    "2. **Team members**\n",
    "    - Coders who will be responsible for writing the Python functions\n",
    "    - Testers who will be responsible for testing the code and providing feedback to the coders\n",
    "\n",
    "***We recommend ensuring that you most experienced coders work with your least experienced coders. Don't forget, this is a team assignment, if you can't figure out how to do something, ask your team on Slack!***"
   ]
  },
  {
   "cell_type": "markdown",
   "metadata": {
    "cell_style": "split"
   },
   "source": [
    "<img src=\"https://github.com/i3hsInnovation/resources/blob/master/images/Discussionsummative.png?raw=true\" width=\"25%\"/>"
   ]
  },
  {
   "cell_type": "markdown",
   "metadata": {
    "cell_style": "split"
   },
   "source": [
    "### Work-flow\n",
    "\n",
    "1. Group leader creates an issue on Git Issues\n",
    "2. The coders will work together to write the module\n",
    "3. The testers will review the final code and test the code. Feedback will be given to the coders within the Git issue\n",
    "4. Once the coding is completed and tested, the project lead will summarise the key work-flow points and close the issue\n",
    "\n",
    "**Details about how the assignment will be marked can be found [here](LINK)**"
   ]
  },
  {
   "cell_type": "markdown",
   "metadata": {},
   "source": [
    "\n",
    "<div class=\"alert alert-block alert-info\">\n",
    "\n",
    "### Team Assignment\n",
    "\n",
    "***Remember, you are working as a team. Make sure you assign tasks in an agile way***\n",
    "\n",
    "#### Coding Workflow\n",
    "1. In `applications/app_v3.py` I have created a `vv_space` namespace and `VariantValidatorClass` resource (Endpoint). Your task is to replace all the sections of the module marked \\_\\_\\_\\_\\_ (5 underscores) with actual code. The namespace requires 3 variables.\n",
    "\n",
    "When you have finished filling in the blanks, the answers can be found in `app_v4.py`\n",
    "\n",
    "<br>\n",
    "\n",
    "***Refer to the existing [VariantValidator REST API](https://rest.variantvalidator.org/webservices/variantvalidator.html#!/variantvalidator/VariantValidator)***\n",
    "\n",
    "2. In `applications/app_v3.py` create a new namespace and Endpoint that incorporates and returns the data from the function you created in SPRINT_1_introduction_a. When you are creating the namespace route, add a field that allows the user to select whether or not the sequences your function returns are displayed.\n",
    "  \n",
    "*Note: for non-coding transcripts some of these fields will need to  return None*\n",
    "\n",
    "</div>"
   ]
  },
  {
   "cell_type": "markdown",
   "metadata": {},
   "source": [
    "### Concluding remarks\n",
    "We will cover methods for reading and writing JSON data to-and-from files in week_6, but a key aspect of learning to program is learning to use the internet to find out how to do things. Google and stack overflow are your friends!"
   ]
  }
 ],
 "metadata": {
  "kernelspec": {
   "display_name": "Python 3",
   "language": "python",
   "name": "python3"
  },
  "language_info": {
   "codemirror_mode": {
    "name": "ipython",
    "version": 3
   },
   "file_extension": ".py",
   "mimetype": "text/x-python",
   "name": "python",
   "nbconvert_exporter": "python",
   "pygments_lexer": "ipython3",
   "version": "3.6.9"
  }
 },
 "nbformat": 4,
 "nbformat_minor": 2
}
